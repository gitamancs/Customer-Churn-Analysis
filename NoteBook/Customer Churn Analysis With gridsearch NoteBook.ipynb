{
 "cells": [
  {
   "cell_type": "markdown",
   "id": "3a022c5d",
   "metadata": {},
   "source": [
    "<h2>Customer Churn Analysis</h2>"
   ]
  },
  {
   "cell_type": "markdown",
   "id": "a3ba78ae",
   "metadata": {},
   "source": [
    "Import necessary Library"
   ]
  },
  {
   "cell_type": "code",
   "execution_count": null,
   "id": "a53a63be",
   "metadata": {},
   "outputs": [],
   "source": [
    "import numpy as np\n",
    "import pandas as pd\n",
    "import matplotlib.pyplot as plt\n",
    "from sklearn.metrics import classification_report\n",
    "from sklearn.metrics import accuracy_score\n",
    "from sklearn.model_selection import GridSearchCV\n",
    "\n",
    "import warnings\n",
    "warnings.filterwarnings('ignore')"
   ]
  },
  {
   "cell_type": "code",
   "execution_count": null,
   "id": "e7bffff4",
   "metadata": {},
   "outputs": [],
   "source": [
    "df = pd.read_csv(r'D:\\My Prog\\Naresh_i _Technology\\Resume Project\\Customer Churn Analysis\\Churn_Modelling.csv')"
   ]
  },
  {
   "cell_type": "code",
   "execution_count": null,
   "id": "15fc4f81",
   "metadata": {
    "scrolled": true
   },
   "outputs": [],
   "source": [
    "df.head()"
   ]
  },
  {
   "cell_type": "code",
   "execution_count": null,
   "id": "fe4f8c0f",
   "metadata": {},
   "outputs": [],
   "source": [
    "df.info()"
   ]
  },
  {
   "cell_type": "code",
   "execution_count": null,
   "id": "cf3ac8ed",
   "metadata": {},
   "outputs": [],
   "source": [
    "df.columns"
   ]
  },
  {
   "cell_type": "code",
   "execution_count": null,
   "id": "6d42818b",
   "metadata": {},
   "outputs": [],
   "source": [
    "for col in df.columns:\n",
    "    print(df[col].value_counts())"
   ]
  },
  {
   "cell_type": "markdown",
   "id": "b25450a0",
   "metadata": {},
   "source": [
    "Defining input var & target var"
   ]
  },
  {
   "cell_type": "code",
   "execution_count": null,
   "id": "38ee7a01",
   "metadata": {},
   "outputs": [],
   "source": [
    "x = df.iloc[:,3:-1].values\n",
    "y = df.iloc[:,-1].values"
   ]
  },
  {
   "cell_type": "markdown",
   "id": "6534a37b",
   "metadata": {},
   "source": [
    "### Encoding categorical var"
   ]
  },
  {
   "cell_type": "markdown",
   "id": "b61ffc1b",
   "metadata": {},
   "source": [
    "One hot encoding the Geography column"
   ]
  },
  {
   "cell_type": "code",
   "execution_count": null,
   "id": "a001556d",
   "metadata": {},
   "outputs": [],
   "source": [
    "# from sklearn.preprocessing import OneHotEncoder\n",
    "# encoder = OneHotEncoder()\n",
    "# # x['Geography']=encoder.fit_transform(x[['Geography']])\n",
    "# one_hot_encoded = encoder.fit_transform(x[['Geography']])\n",
    "\n",
    "# # Convert the sparse matrix to a dense array\n",
    "# one_hot_array = one_hot_encoded.toarray()\n",
    "\n",
    "# # Assign the dense array to the DataFrame column\n",
    "# x['Geography'] = one_hot_array\n",
    "# # \n",
    "# # one_hot_encoded = encoder.transform(df[['Category']]).toarray()"
   ]
  },
  {
   "cell_type": "markdown",
   "id": "03b7c333",
   "metadata": {},
   "source": [
    "from sklearn.compose import ColumnTransformer\n",
    "from sklearn.preprocessing import OneHotEncoder\n",
    "ct_col = ColumnTransformer(transformers = [('encoder',OneHotEncoder(),[1])],remainder = 'passthrough')\n",
    "x = np.array(ct_col.fit_transform(x))"
   ]
  },
  {
   "cell_type": "markdown",
   "id": "e0211708",
   "metadata": {},
   "source": [
    "Label encoding the age column"
   ]
  },
  {
   "cell_type": "code",
   "execution_count": null,
   "id": "1dbeb753",
   "metadata": {},
   "outputs": [],
   "source": [
    "from sklearn.preprocessing import LabelEncoder\n",
    "le = LabelEncoder()\n",
    "x[:,2]= le.fit_transform(x[:,2])"
   ]
  },
  {
   "cell_type": "markdown",
   "id": "c8515bab",
   "metadata": {},
   "source": [
    "One hot encoding the 'geography' column"
   ]
  },
  {
   "cell_type": "code",
   "execution_count": null,
   "id": "e22bb1fb",
   "metadata": {},
   "outputs": [],
   "source": [
    "from sklearn.compose import ColumnTransformer\n",
    "from sklearn.preprocessing import OneHotEncoder\n",
    "ct = ColumnTransformer(transformers=[('encoder', OneHotEncoder(), [1])], remainder='passthrough')\n",
    "x = np.array(ct.fit_transform(x))"
   ]
  },
  {
   "cell_type": "markdown",
   "id": "d74d7761",
   "metadata": {},
   "source": [
    "Splitting data into train and test set"
   ]
  },
  {
   "cell_type": "code",
   "execution_count": null,
   "id": "03ca60df",
   "metadata": {},
   "outputs": [],
   "source": [
    "from sklearn.model_selection import train_test_split\n",
    "xtrain, xtest, ytrain, ytest = train_test_split(x, y, test_size = 0.2, random_state = 0)"
   ]
  },
  {
   "cell_type": "code",
   "execution_count": null,
   "id": "9dca2342",
   "metadata": {},
   "outputs": [],
   "source": [
    "xtrain[0]"
   ]
  },
  {
   "cell_type": "code",
   "execution_count": null,
   "id": "2d7afffa",
   "metadata": {},
   "outputs": [],
   "source": [
    "ytrain"
   ]
  },
  {
   "cell_type": "markdown",
   "id": "79930ad5",
   "metadata": {},
   "source": [
    "Let's apply all the classification algorithm.\n",
    "- Logistic Regression\n",
    "- Naive Bayes\n",
    "- Decision Trees\n",
    "- Random Forest\n",
    "- Support Vector Machines (SVM)\n",
    "- k-Nearest Neighbors (k-NN)\n",
    "- Gradient Boosting (e.g., XGBoost, LightGBM, CatBoost)"
   ]
  },
  {
   "cell_type": "markdown",
   "id": "65749d46",
   "metadata": {},
   "source": [
    "# Let's apply Logistic Regression"
   ]
  },
  {
   "cell_type": "code",
   "execution_count": null,
   "id": "9dfc5ec2",
   "metadata": {},
   "outputs": [],
   "source": [
    "from sklearn.linear_model import LogisticRegression\n",
    "logit = LogisticRegression()\n",
    "logit.fit(xtrain,ytrain)"
   ]
  },
  {
   "cell_type": "code",
   "execution_count": null,
   "id": "5f6b6e97",
   "metadata": {},
   "outputs": [],
   "source": [
    "# Prediction\n",
    "logit_pred = logit.predict(xtest)"
   ]
  },
  {
   "cell_type": "code",
   "execution_count": null,
   "id": "9f19abd0",
   "metadata": {},
   "outputs": [],
   "source": [
    "logit_pred"
   ]
  },
  {
   "cell_type": "markdown",
   "id": "edc36eda",
   "metadata": {},
   "source": [
    "#### Let's Calculate all other necessary information"
   ]
  },
  {
   "cell_type": "code",
   "execution_count": null,
   "id": "4e486f7a",
   "metadata": {},
   "outputs": [],
   "source": [
    "# Accuracy\n",
    "logit_ac = accuracy_score(ytest,logit_pred)\n",
    "print('So the accuracy of the model is:',logit_ac)\n",
    "\n",
    "# Bias\n",
    "logit_bias = logit.score(xtrain,ytrain)\n",
    "print('The bias of the model is:',logit_bias)\n",
    "logit_variance = logit.score(xtest,ytest)\n",
    "print('The variance of the model is:',logit_variance)\n",
    "\n",
    "# Accuracy table\n",
    "logit_cr = classification_report(ytest,logit_pred)\n",
    "print('The classification report for logistic regression is:\\n',logit_cr)\n",
    "# table = logit.accuracy_score(ytest,logit_pred)"
   ]
  },
  {
   "cell_type": "markdown",
   "id": "da7007c2",
   "metadata": {},
   "source": [
    "# Let's apply Naive Bayes using GridSearch"
   ]
  },
  {
   "cell_type": "markdown",
   "id": "c424b616",
   "metadata": {},
   "source": [
    "First on Multinomial Naive Bayes"
   ]
  },
  {
   "cell_type": "code",
   "execution_count": null,
   "id": "3df37b5c",
   "metadata": {},
   "outputs": [],
   "source": [
    "from sklearn.naive_bayes import MultinomialNB\n",
    "mnb = MultinomialNB()"
   ]
  },
  {
   "cell_type": "code",
   "execution_count": null,
   "id": "0aa22c9d",
   "metadata": {},
   "outputs": [],
   "source": [
    "# parameter grid\n",
    "param_grid = {\n",
    "    'alpha': [0.1, 0.5, 1.0],  # Smoothing parameter (Laplace smoothing)\n",
    "    'fit_prior': [True, False]  # Whether to learn class prior probabilities\n",
    "}"
   ]
  },
  {
   "cell_type": "code",
   "execution_count": null,
   "id": "e9e9fefd",
   "metadata": {},
   "outputs": [],
   "source": [
    "#Applying gridsearch cv\n",
    "grid_search = GridSearchCV(estimator = mnb,param_grid = param_grid,cv = 5)"
   ]
  },
  {
   "cell_type": "code",
   "execution_count": null,
   "id": "30566314",
   "metadata": {},
   "outputs": [],
   "source": [
    "grid_search.fit(xtrain,ytrain)"
   ]
  },
  {
   "cell_type": "code",
   "execution_count": null,
   "id": "5aa49344",
   "metadata": {},
   "outputs": [],
   "source": [
    "best = grid_search.best_params_\n",
    "best"
   ]
  },
  {
   "cell_type": "code",
   "execution_count": null,
   "id": "cd3d0e77",
   "metadata": {},
   "outputs": [],
   "source": [
    "mnb_pred = grid_search.predict(xtest)\n",
    "mnb_pred"
   ]
  },
  {
   "cell_type": "code",
   "execution_count": null,
   "id": "2085ed83",
   "metadata": {},
   "outputs": [],
   "source": [
    "mnb_ac = accuracy_score(ytest,mnb_pred)\n",
    "mnb_ac # without cv ac= 0.544"
   ]
  },
  {
   "cell_type": "code",
   "execution_count": null,
   "id": "09b92289",
   "metadata": {},
   "outputs": [],
   "source": [
    "cr = classification_report(ytest,mnb_pred)\n",
    "cr"
   ]
  },
  {
   "cell_type": "code",
   "execution_count": null,
   "id": "a4aeffc5",
   "metadata": {},
   "outputs": [],
   "source": [
    "bias = grid_search.score(xtrain,ytrain)\n",
    "bias # without cv 0.551875"
   ]
  },
  {
   "cell_type": "code",
   "execution_count": null,
   "id": "1b5ca92d",
   "metadata": {},
   "outputs": [],
   "source": [
    "variance = grid_search.score(xtest,ytest)\n",
    "variance # without cv 0.544"
   ]
  },
  {
   "cell_type": "markdown",
   "id": "5dd809ca",
   "metadata": {},
   "source": [
    "Second on Gaussian Naive bayes"
   ]
  },
  {
   "cell_type": "code",
   "execution_count": null,
   "id": "e29a48fc",
   "metadata": {},
   "outputs": [],
   "source": [
    "from sklearn.naive_bayes import GaussianNB\n",
    "gnb = GaussianNB()\n",
    "gnb.fit(xtrain,ytrain)"
   ]
  },
  {
   "cell_type": "code",
   "execution_count": null,
   "id": "8efa8779",
   "metadata": {},
   "outputs": [],
   "source": [
    "gnb_pred = gnb.predict(xtest)\n",
    "gnb_pred"
   ]
  },
  {
   "cell_type": "code",
   "execution_count": null,
   "id": "6db0d083",
   "metadata": {},
   "outputs": [],
   "source": [
    "gnb_ac = accuracy_score(ytest,gnb_pred)\n",
    "gnb_ac"
   ]
  },
  {
   "cell_type": "code",
   "execution_count": null,
   "id": "ee59f13e",
   "metadata": {},
   "outputs": [],
   "source": [
    "bias = gnb.score(xtrain,ytrain)\n",
    "bias"
   ]
  },
  {
   "cell_type": "code",
   "execution_count": null,
   "id": "d1d7d6e5",
   "metadata": {},
   "outputs": [],
   "source": [
    "variance = gnb.score(xtest,ytest)\n",
    "variance"
   ]
  },
  {
   "cell_type": "code",
   "execution_count": null,
   "id": "8651fdea",
   "metadata": {},
   "outputs": [],
   "source": [
    "cr = classification_report(ytest,gnb_pred)\n",
    "cr"
   ]
  },
  {
   "cell_type": "markdown",
   "id": "24e8babc",
   "metadata": {},
   "source": [
    "Let's go for Bernouli naive bayes algorithm"
   ]
  },
  {
   "cell_type": "code",
   "execution_count": null,
   "id": "7f607623",
   "metadata": {},
   "outputs": [],
   "source": [
    "from sklearn.naive_bayes import BernoulliNB\n",
    "bnb = BernoulliNB()\n",
    "bnb.fit(xtrain,ytrain)"
   ]
  },
  {
   "cell_type": "code",
   "execution_count": null,
   "id": "45f69018",
   "metadata": {},
   "outputs": [],
   "source": [
    "bnb_pred = bnb.predict(xtest)\n",
    "bnb_pred"
   ]
  },
  {
   "cell_type": "code",
   "execution_count": null,
   "id": "fb9f5690",
   "metadata": {},
   "outputs": [],
   "source": [
    "bnb_ac = accuracy_score(ytest,bnb_pred)\n",
    "bnb_ac"
   ]
  },
  {
   "cell_type": "code",
   "execution_count": null,
   "id": "6df6b8c4",
   "metadata": {},
   "outputs": [],
   "source": [
    "bias = bnb.score(xtrain,ytrain)\n",
    "bias"
   ]
  },
  {
   "cell_type": "code",
   "execution_count": null,
   "id": "25af26a4",
   "metadata": {},
   "outputs": [],
   "source": [
    "variance = bnb.score(xtest,ytest)\n",
    "variance"
   ]
  },
  {
   "cell_type": "markdown",
   "id": "32a25dfb",
   "metadata": {},
   "source": [
    "# Let's apply Decision Tree using GridSearch"
   ]
  },
  {
   "cell_type": "code",
   "execution_count": null,
   "id": "8f89ed65",
   "metadata": {},
   "outputs": [],
   "source": [
    "from sklearn.tree import DecisionTreeClassifier\n",
    "dtc = DecisionTreeClassifier()"
   ]
  },
  {
   "cell_type": "code",
   "execution_count": null,
   "id": "73b1e294",
   "metadata": {},
   "outputs": [],
   "source": [
    "param_grid = {\n",
    "    'criterion': ['gini', 'entropy'],  # Splitting criterion\n",
    "    'splitter': ['best', 'random'],  # Strategy for choosing splits\n",
    "    'max_depth': [None, 10, 20, 30, 40],  # Maximum depth of the tree\n",
    "    'min_samples_split': [2, 5, 10],  # Minimum samples required to split a node\n",
    "    'min_samples_leaf': [1, 2, 4],  # Minimum samples required at a leaf node\n",
    "    'max_features': [None, 'sqrt', 'log2'],  # Number of features to consider for best split\n",
    "}"
   ]
  },
  {
   "cell_type": "code",
   "execution_count": null,
   "id": "1584989d",
   "metadata": {},
   "outputs": [],
   "source": [
    "model = GridSearchCV(estimator = dtc, param_grid = param_grid,cv = 5)\n",
    "model.fit(xtrain,ytrain)"
   ]
  },
  {
   "cell_type": "code",
   "execution_count": null,
   "id": "c416cecf",
   "metadata": {},
   "outputs": [],
   "source": [
    "best_params = model.best_params_\n",
    "best_params\n",
    "'''\n",
    "With cv the parameters are\n",
    "{'criterion': 'entropy',\n",
    " 'max_depth': 10,\n",
    " 'max_features': None,\n",
    " 'min_samples_leaf': 1,\n",
    " 'min_samples_split': 5,\n",
    " 'splitter': 'random'}\n",
    "'''"
   ]
  },
  {
   "cell_type": "code",
   "execution_count": null,
   "id": "ff4f8fd9",
   "metadata": {},
   "outputs": [],
   "source": [
    "dtc_pred = model.predict(xtest)\n",
    "dtc_pred"
   ]
  },
  {
   "cell_type": "code",
   "execution_count": null,
   "id": "21c9f8fc",
   "metadata": {},
   "outputs": [],
   "source": [
    "dtc_ac = accuracy_score(ytest,dtc_pred)\n",
    "dtc_ac # witout cv ac = 0.8445"
   ]
  },
  {
   "cell_type": "code",
   "execution_count": null,
   "id": "3af283f7",
   "metadata": {},
   "outputs": [],
   "source": [
    "bias = model.score(xtrain,ytrain)\n",
    "bias # without cv = 0.882125"
   ]
  },
  {
   "cell_type": "code",
   "execution_count": null,
   "id": "f3d6f194",
   "metadata": {},
   "outputs": [],
   "source": [
    "variance = model.score(xtest,ytest)\n",
    "variance # without cv = 0.8445"
   ]
  },
  {
   "cell_type": "markdown",
   "id": "d1289444",
   "metadata": {},
   "source": [
    "# Let's apply Random Forest using GridSearchCv"
   ]
  },
  {
   "cell_type": "code",
   "execution_count": null,
   "id": "cddebfb7",
   "metadata": {},
   "outputs": [],
   "source": [
    "from sklearn.ensemble import RandomForestClassifier\n",
    "rfc = RandomForestClassifier(n_estimators = 100)"
   ]
  },
  {
   "cell_type": "code",
   "execution_count": null,
   "id": "da0fed2c",
   "metadata": {},
   "outputs": [],
   "source": [
    "param_grid = {\n",
    "    'n_estimators': [100, 200, 300],  # Number of trees in the forest\n",
    "#     'criterion': ['gini', 'entropy'],  # Splitting criterion for decision trees\n",
    "#      'max_depth': [None, 10, 20, 30],  # Maximum depth of the trees\n",
    "#     'min_samples_split': [2, 5, 10],  # Minimum samples required to split an internal node\n",
    "#     'min_samples_leaf': [1, 2, 4],  # Minimum samples required to be at a leaf node\n",
    "#     'max_features': ['auto', 'sqrt', 'log2'],  # Number of features to consider for the best split\n",
    "#     'bootstrap': [True, False],  # Whether to bootstrap samples when building trees\n",
    "#     'oob_score': [True, False],  # Whether to use out-of-bag samples for scoring\n",
    "    'random_state': [0]  # Seed for random number generation\n",
    "}"
   ]
  },
  {
   "cell_type": "code",
   "execution_count": null,
   "id": "e55ac0eb",
   "metadata": {},
   "outputs": [],
   "source": [
    "model = GridSearchCV(estimator=rfc,param_grid = param_grid, cv = 5)"
   ]
  },
  {
   "cell_type": "code",
   "execution_count": null,
   "id": "1e473afe",
   "metadata": {},
   "outputs": [],
   "source": [
    "model.fit(xtrain,ytrain)"
   ]
  },
  {
   "cell_type": "code",
   "execution_count": null,
   "id": "e9e280e3",
   "metadata": {},
   "outputs": [],
   "source": [
    "best_params = model.best_params_\n",
    "best_params"
   ]
  },
  {
   "cell_type": "code",
   "execution_count": null,
   "id": "aa32e4bd",
   "metadata": {},
   "outputs": [],
   "source": [
    "# Prediction\n",
    "rfc_pred = model.predict(xtest)\n",
    "rfc_pred"
   ]
  },
  {
   "cell_type": "code",
   "execution_count": null,
   "id": "4ae1ca64",
   "metadata": {},
   "outputs": [],
   "source": [
    "# Accuracy\n",
    "rf_ac = accuracy_score(ytest,rfc_pred)\n",
    "rf_ac # .8645 for 100 estimators , "
   ]
  },
  {
   "cell_type": "code",
   "execution_count": null,
   "id": "67624097",
   "metadata": {},
   "outputs": [],
   "source": [
    "bias = model.score(xtrain,ytrain)\n",
    "bias # 1.0 for 100 est"
   ]
  },
  {
   "cell_type": "code",
   "execution_count": null,
   "id": "95a654c6",
   "metadata": {},
   "outputs": [],
   "source": [
    "variance = model.score(xtest,ytest)\n",
    "variance # .8645 for 100 est"
   ]
  },
  {
   "cell_type": "markdown",
   "id": "fced012d",
   "metadata": {},
   "source": [
    "# Let's Apply Support Vector Machine Algorithm"
   ]
  },
  {
   "cell_type": "code",
   "execution_count": null,
   "id": "3eab2d91",
   "metadata": {},
   "outputs": [],
   "source": [
    "from sklearn.svm import SVC\n",
    "svc_classifier = SVC()"
   ]
  },
  {
   "cell_type": "code",
   "execution_count": null,
   "id": "55709351",
   "metadata": {},
   "outputs": [],
   "source": [
    "# # Define the parameter grid\n",
    "# param_grid = {\n",
    "#     'C': [0.1],  # Regularization parameter\n",
    "#     'kernel': ['linear', 'poly', 'rbf', 'sigmoid'],  # Type of kernel\n",
    "#     'degree': [2, 3, 4],  # Degree for 'poly' kernel\n",
    "#     'gamma': ['scale', 'auto'],  # Kernel coefficient for 'rbf', 'poly', 'sigmoid'\n",
    "#     'coef0': [0.0, 0.5, 1.0],  # Independent term in kernel function for 'poly', 'sigmoid'\n",
    "#     'shrinking': [True, False],  # Use the shrinking heuristic\n",
    "#     'probability': [True, False],  # Enable probability estimates\n",
    "#     'tol': [1e-3, 1e-4, 1e-5],  # Tolerance for stopping criterion\n",
    "#     'cache_size': [100, 200, 300],  # Size of the kernel cache (in MB)\n",
    "#     'class_weight': [None, 'balanced'],  # Set class weights\n",
    "#     'verbose': [True, False],  # Enable verbose output\n",
    "#     'max_iter': [1000, 2000, -1],  # Hard limit on iterations within solver\n",
    "#     'decision_function_shape': ['ovo', 'ovr'],  # Decision function shape for multi-class problems\n",
    "#     'break_ties': [True, False],  # Whether to break ties according to confidence values\n",
    "#     'random_state': [0, 42]  # Controls random number generation for probability estimates\n",
    "# }\n"
   ]
  },
  {
   "cell_type": "code",
   "execution_count": null,
   "id": "841fff29",
   "metadata": {},
   "outputs": [],
   "source": [
    "# model = GridSearchCV(estimator = svc_classifier, param_grid=param_grid)"
   ]
  },
  {
   "cell_type": "code",
   "execution_count": null,
   "id": "7d8d80f3",
   "metadata": {},
   "outputs": [],
   "source": [
    "svc_classifier.fit(xtrain,ytrain)"
   ]
  },
  {
   "cell_type": "code",
   "execution_count": null,
   "id": "5866eb95",
   "metadata": {},
   "outputs": [],
   "source": [
    "# Prediction\n",
    "svc_pred = svc_classifier.predict(xtest)\n",
    "svc_pred"
   ]
  },
  {
   "cell_type": "code",
   "execution_count": null,
   "id": "eccc7004",
   "metadata": {},
   "outputs": [],
   "source": [
    "# Accuracy\n",
    "svc_ac = accuracy_score(ytest,svc_pred)\n",
    "svc_ac"
   ]
  },
  {
   "cell_type": "code",
   "execution_count": null,
   "id": "c0988346",
   "metadata": {},
   "outputs": [],
   "source": [
    "bias = svc_classifier.score(xtrain,ytrain)\n",
    "bias"
   ]
  },
  {
   "cell_type": "code",
   "execution_count": null,
   "id": "ffa97dc0",
   "metadata": {},
   "outputs": [],
   "source": [
    "variance = svc_classifier.score(xtest,ytest)\n",
    "variance"
   ]
  },
  {
   "cell_type": "code",
   "execution_count": null,
   "id": "681ebc38",
   "metadata": {},
   "outputs": [],
   "source": [
    "cr = classification_report(ytest,svc_pred)\n",
    "cr"
   ]
  },
  {
   "cell_type": "markdown",
   "id": "fa03548d",
   "metadata": {},
   "source": [
    "# Let's Apply KNN Algorithm"
   ]
  },
  {
   "cell_type": "code",
   "execution_count": null,
   "id": "1f2bd4ba",
   "metadata": {},
   "outputs": [],
   "source": [
    "from sklearn.neighbors import KNeighborsClassifier\n",
    "knn = KNeighborsClassifier()"
   ]
  },
  {
   "cell_type": "code",
   "execution_count": null,
   "id": "84250ae0",
   "metadata": {},
   "outputs": [],
   "source": [
    "param_grid = {\n",
    "    'n_neighbors': [3, 5, 7],  # Varying number of neighbors\n",
    "    'weights': ['uniform', 'distance'],  # Types of weights\n",
    "    'algorithm': ['auto', 'ball_tree', 'kd_tree', 'brute'],  # Different algorithms\n",
    "    'leaf_size': [20, 30, 40],  # Varying leaf size\n",
    "    'p': [1, 2],  # Power parameter for Minkowski metric\n",
    "    'metric': ['euclidean', 'manhattan'],  # Distance metric options\n",
    "}"
   ]
  },
  {
   "cell_type": "code",
   "execution_count": null,
   "id": "31c4f5c5",
   "metadata": {},
   "outputs": [],
   "source": [
    "model = GridSearchCV(estimator=knn, param_grid = param_grid)"
   ]
  },
  {
   "cell_type": "code",
   "execution_count": null,
   "id": "0821e666",
   "metadata": {},
   "outputs": [],
   "source": [
    "model.fit(xtrain,ytrain)"
   ]
  },
  {
   "cell_type": "code",
   "execution_count": null,
   "id": "54be8c5b",
   "metadata": {},
   "outputs": [],
   "source": [
    "best_params = model.best_params_\n",
    "best_params"
   ]
  },
  {
   "cell_type": "code",
   "execution_count": null,
   "id": "a6a060b7",
   "metadata": {},
   "outputs": [],
   "source": [
    "# Prediction\n",
    "knn_pred = model.predict(xtest)\n",
    "knn_pred"
   ]
  },
  {
   "cell_type": "code",
   "execution_count": null,
   "id": "56d08986",
   "metadata": {},
   "outputs": [],
   "source": [
    "# Accuracy\n",
    "knn_ac = accuracy_score(ytest,knn_pred)\n",
    "knn_ac"
   ]
  },
  {
   "cell_type": "code",
   "execution_count": null,
   "id": "69760490",
   "metadata": {
    "scrolled": true
   },
   "outputs": [],
   "source": [
    "# Bias\n",
    "bias = model.score(xtrain,ytrain)\n",
    "bias"
   ]
  },
  {
   "cell_type": "code",
   "execution_count": null,
   "id": "1eed02af",
   "metadata": {},
   "outputs": [],
   "source": [
    "variance = model.score(xtest,ytest)\n",
    "variance"
   ]
  },
  {
   "cell_type": "code",
   "execution_count": null,
   "id": "41e234c5",
   "metadata": {},
   "outputs": [],
   "source": [
    "cr = classification_report(ytest,knn_pred)\n",
    "cr"
   ]
  },
  {
   "cell_type": "markdown",
   "id": "c5bd5388",
   "metadata": {},
   "source": [
    "# Let's apply Gradient boosting algorithm"
   ]
  },
  {
   "cell_type": "markdown",
   "id": "147129dd",
   "metadata": {},
   "source": [
    "- XGBoost"
   ]
  },
  {
   "cell_type": "code",
   "execution_count": null,
   "id": "05f4a74e",
   "metadata": {},
   "outputs": [],
   "source": [
    "from xgboost import XGBClassifier\n",
    "xgb = XGBClassifier()"
   ]
  },
  {
   "cell_type": "code",
   "execution_count": null,
   "id": "a0a6fa25",
   "metadata": {},
   "outputs": [],
   "source": [
    "# Fit the model on the training data\n",
    "xgb.fit(xtrain, ytrain)\n",
    "\n",
    "# Make predictions on the test data\n",
    "y_pred = xgb.predict(xtest)"
   ]
  },
  {
   "cell_type": "code",
   "execution_count": null,
   "id": "6da8233f",
   "metadata": {},
   "outputs": [],
   "source": [
    "# Evaluate the model\n",
    "xgb_ac = accuracy_score(ytest, y_pred)\n",
    "xgb_ac"
   ]
  },
  {
   "cell_type": "code",
   "execution_count": null,
   "id": "891fef11",
   "metadata": {},
   "outputs": [],
   "source": [
    "print(\"Classification Report:\")\n",
    "xgb_cr = classification_report(ytest, y_pred)"
   ]
  },
  {
   "cell_type": "code",
   "execution_count": null,
   "id": "752848c2",
   "metadata": {},
   "outputs": [],
   "source": [
    "bias = xgb.score(xtrain,ytrain)\n",
    "bias"
   ]
  },
  {
   "cell_type": "code",
   "execution_count": null,
   "id": "13ccfbe8",
   "metadata": {},
   "outputs": [],
   "source": [
    "variance = xgb.score(xtest,ytest)\n",
    "variance"
   ]
  },
  {
   "cell_type": "code",
   "execution_count": null,
   "id": "58264c53",
   "metadata": {},
   "outputs": [],
   "source": [
    "# # Define the parameter grid for XGBoost classifier\n",
    "# param_grid = {\n",
    "#     'n_estimators': [100, 200],  # Number of boosting rounds\n",
    "#     'max_depth': [3, 4, 5],  # Maximum depth of a tree\n",
    "#     'learning_rate': [0.1, 0.01, 0.001],  # Learning rate\n",
    "#     'subsample': [0.8, 0.9, 1.0],  # Subsample ratio of the training instances\n",
    "#     'colsample_bytree': [0.8, 0.9, 1.0],  # Subsample ratio of columns when constructing each tree\n",
    "#     'gamma': [0, 0.1, 0.2]  # Mihttp://localhost:8888/notebooks/My%20Prog/Naresh_i%20_Technology/Resume%20Project/Customer%20Churn%20Analysis/Untitled.ipynb#nimum loss reduction required to make a further partition\n",
    "# }\n",
    "# '''"
   ]
  },
  {
   "cell_type": "code",
   "execution_count": null,
   "id": "73d09de3",
   "metadata": {},
   "outputs": [],
   "source": [
    "# model = GridSearchCV(estimator=xgb, param_grid=param_grid, cv = 5)"
   ]
  },
  {
   "cell_type": "markdown",
   "id": "1d3d16e1",
   "metadata": {},
   "source": [
    "# Let's apply lightgbm "
   ]
  },
  {
   "cell_type": "code",
   "execution_count": null,
   "id": "4f7666d3",
   "metadata": {},
   "outputs": [],
   "source": [
    "import lightgbm as lgb\n",
    "lgb_classifier = lgb.LGBMClassifier()"
   ]
  },
  {
   "cell_type": "code",
   "execution_count": null,
   "id": "cf0fd7a4",
   "metadata": {},
   "outputs": [],
   "source": [
    "param_grid = {\n",
    "    \"boosting_type\": [\"gbdt\", \"rf\", \"dart\"],\n",
    "    \"num_leaves\": [20, 31, 40],\n",
    "    \"max_depth\": [5, 6, 7],\n",
    "    \"learning_rate\": [0.05, 0.1],\n",
    "    # Add more hyperparameters and their values\n",
    "}"
   ]
  },
  {
   "cell_type": "code",
   "execution_count": null,
   "id": "de38cf93",
   "metadata": {},
   "outputs": [],
   "source": [
    "model = GridSearchCV(estimator = lgb_classifier, param_grid= param_grid,cv = 5)"
   ]
  },
  {
   "cell_type": "code",
   "execution_count": null,
   "id": "5e8e15c4",
   "metadata": {},
   "outputs": [],
   "source": [
    "model.fit(xtrain,ytrain)"
   ]
  },
  {
   "cell_type": "code",
   "execution_count": null,
   "id": "2936421c",
   "metadata": {},
   "outputs": [],
   "source": [
    "best_params = model.best_params_\n",
    "best_params"
   ]
  },
  {
   "cell_type": "code",
   "execution_count": null,
   "id": "ba2798c6",
   "metadata": {},
   "outputs": [],
   "source": [
    "# Prediction\n",
    "lgb_pred = model.predict(xtest)\n",
    "lgb_pred"
   ]
  },
  {
   "cell_type": "code",
   "execution_count": null,
   "id": "ab77f679",
   "metadata": {},
   "outputs": [],
   "source": [
    "# Accuracy\n",
    "lgb_ac = accuracy_score(ytest,lgb_pred)\n",
    "lgb_ac"
   ]
  },
  {
   "cell_type": "code",
   "execution_count": null,
   "id": "6057ed36",
   "metadata": {},
   "outputs": [],
   "source": [
    "bias = model.score(xtrain,ytrain)\n",
    "bias"
   ]
  },
  {
   "cell_type": "code",
   "execution_count": null,
   "id": "2350b6d6",
   "metadata": {},
   "outputs": [],
   "source": [
    "variance = model.score(xtest,ytest)\n",
    "variance"
   ]
  },
  {
   "cell_type": "code",
   "execution_count": null,
   "id": "1fc471bd",
   "metadata": {},
   "outputs": [],
   "source": [
    "cr = classification_report(ytest,lgb_pred)\n",
    "cr"
   ]
  },
  {
   "cell_type": "markdown",
   "id": "59221284",
   "metadata": {},
   "source": [
    "# Let's apply catboost"
   ]
  },
  {
   "cell_type": "code",
   "execution_count": null,
   "id": "f9a4368d",
   "metadata": {},
   "outputs": [],
   "source": [
    "from catboost import CatBoostClassifier"
   ]
  },
  {
   "cell_type": "code",
   "execution_count": null,
   "id": "ae3ecd39",
   "metadata": {},
   "outputs": [],
   "source": [
    "cat_classifier = CatBoostClassifier()"
   ]
  },
  {
   "cell_type": "code",
   "execution_count": null,
   "id": "cc48898a",
   "metadata": {},
   "outputs": [],
   "source": [
    "cat_classifier.fit(xtrain,ytrain)"
   ]
  },
  {
   "cell_type": "code",
   "execution_count": null,
   "id": "9fd2f54d",
   "metadata": {},
   "outputs": [],
   "source": [
    "# catboost_param_grid = {\n",
    "#     'iterations': [100, 200, 300],\n",
    "#     'learning_rate': [0.1, 0.05, 0.01],\n",
    "#     'depth': [4, 6, 8],\n",
    "#     'l2_leaf_reg': [3.0, 5.0, 7.0],\n",
    "#     'model_size_reg': [None, 0.1, 0.5],\n",
    "#     'rsm': [0.7, 0.8, 1.0],\n",
    "#     'loss_function': ['Logloss', 'CrossEntropy'],\n",
    "#     'border_count': [254, 128],\n",
    "#     # ... (additional parameters and their respective values)\n",
    "#     'used_ram_limit': ['1.2gb', '2.4gb'],\n",
    "#     'eval_fraction': [0.1, 0.2, 0.3],\n",
    "#     'bagging_temperature': [0.5, 1.0, 1.5],\n",
    "#     'bootstrap_type': ['Bayesian', 'Bernoulli', 'Poisson'],\n",
    "#     # ... (more parameters and their respective values)\n",
    "# }\n"
   ]
  },
  {
   "cell_type": "code",
   "execution_count": null,
   "id": "3c457be0",
   "metadata": {},
   "outputs": [],
   "source": [
    "# model = GridSearchCV(estimator = cat_classifier,param_grid = catboost_param_grid,cv = 5)"
   ]
  },
  {
   "cell_type": "code",
   "execution_count": null,
   "id": "52b4c5f4",
   "metadata": {},
   "outputs": [],
   "source": [
    "# Prediction\n",
    "cat_pred = cat_classifier.predict(xtest)\n",
    "cat_pred"
   ]
  },
  {
   "cell_type": "code",
   "execution_count": null,
   "id": "d301e1e2",
   "metadata": {},
   "outputs": [],
   "source": [
    "# Accuracy\n",
    "cat_ac = accuracy_score(ytest,cat_pred)\n",
    "cat_ac"
   ]
  },
  {
   "cell_type": "code",
   "execution_count": null,
   "id": "1b98c7c8",
   "metadata": {},
   "outputs": [],
   "source": [
    "bias = cat_classifier.score(xtrain,ytrain)\n",
    "bias"
   ]
  },
  {
   "cell_type": "code",
   "execution_count": null,
   "id": "6e2ddb15",
   "metadata": {},
   "outputs": [],
   "source": [
    "variance = cat_classifier.score(xtest,ytest)\n",
    "variance"
   ]
  },
  {
   "cell_type": "code",
   "execution_count": null,
   "id": "d02a2624",
   "metadata": {},
   "outputs": [],
   "source": [
    "cr = classification_report(ytest,cat_pred)\n",
    "cr"
   ]
  },
  {
   "cell_type": "markdown",
   "id": "37fc87ba",
   "metadata": {},
   "source": [
    "# Time to find the best model for our dataset"
   ]
  },
  {
   "cell_type": "code",
   "execution_count": null,
   "id": "b89c754e",
   "metadata": {},
   "outputs": [],
   "source": [
    "algo = ['Logistic Regression','Bernouli Naive Bayes','Gaussian Naive Bayes','MultiNomial Naive Bayes','Decision Trees','Random Forest',\n",
    "        'Support Vector Machines (SVM)','k-Nearest Neighbors (k-NN)','XGBoost', 'LightGBM', 'CatBoost']"
   ]
  },
  {
   "cell_type": "code",
   "execution_count": null,
   "id": "f9d15e61",
   "metadata": {},
   "outputs": [],
   "source": [
    "accuracy = [logit_ac,bnb_ac,gnb_ac,mnb_ac,dtc_ac,rf_ac,svc_ac,knn_ac,xgb_ac,lgb_ac,cat_ac]"
   ]
  },
  {
   "cell_type": "code",
   "execution_count": null,
   "id": "b61928cd",
   "metadata": {},
   "outputs": [],
   "source": [
    "print(len(algo))\n",
    "print(len(accuracy))"
   ]
  },
  {
   "cell_type": "code",
   "execution_count": null,
   "id": "4f17aeaf",
   "metadata": {},
   "outputs": [],
   "source": [
    "for model, acc in zip(algo, accuracy):\n",
    "    print(f\"{model} model: Accuracy - {acc}\")"
   ]
  },
  {
   "cell_type": "code",
   "execution_count": null,
   "id": "6923f69c",
   "metadata": {},
   "outputs": [],
   "source": [
    "# Alternate of showing\n",
    "# algo = ['Logistic Regression', 'Bernoulli Naive Bayes', 'Gaussian Naive Bayes', 'MultiNomial Naive Bayes', 'Decision Trees', 'Random Forest',\n",
    "#         'Support Vector Machines (SVM)', 'k-Nearest Neighbors (k-NN)', 'XGBoost', 'LightGBM', 'CatBoost']\n",
    "# accuracy = [logit_ac, bnb_ac, gnb_ac, mnb_ac, dtc_ac, rf_ac, svc_ac, knn_ac, xgb_ac, lgb_ac, cat_ac]\n",
    "\n",
    "# for i in range(len(algo)):\n",
    "#     print(f\"{algo[i]}: Accuracy - {accuracy[i]}\")"
   ]
  },
  {
   "cell_type": "code",
   "execution_count": null,
   "id": "45ccd90a",
   "metadata": {},
   "outputs": [],
   "source": []
  }
 ],
 "metadata": {
  "kernelspec": {
   "display_name": "Python 3 (ipykernel)",
   "language": "python",
   "name": "python3"
  },
  "language_info": {
   "codemirror_mode": {
    "name": "ipython",
    "version": 3
   },
   "file_extension": ".py",
   "mimetype": "text/x-python",
   "name": "python",
   "nbconvert_exporter": "python",
   "pygments_lexer": "ipython3",
   "version": "3.11.5"
  }
 },
 "nbformat": 4,
 "nbformat_minor": 5
}
